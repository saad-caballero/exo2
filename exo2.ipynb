{
 "cells": [
  {
   "cell_type": "code",
   "execution_count": 12,
   "id": "93ecc98e-a00e-46d0-aa41-d55da7a18d83",
   "metadata": {},
   "outputs": [
    {
     "name": "stdout",
     "output_type": "stream",
     "text": [
      "Bienvenue au jeu Devinez le Numéro !\n",
      "Je pense à un numéro entre 1 et 100. Pouvez-vous deviner lequel c'est ?\n"
     ]
    },
    {
     "name": "stdin",
     "output_type": "stream",
     "text": [
      "Entrez votre estimation :  20\n"
     ]
    },
    {
     "name": "stdout",
     "output_type": "stream",
     "text": [
      "Votre estimation est trop haute. Essayez encore.\n"
     ]
    },
    {
     "name": "stdin",
     "output_type": "stream",
     "text": [
      "Entrez votre estimation :  50\n"
     ]
    },
    {
     "name": "stdout",
     "output_type": "stream",
     "text": [
      "Votre estimation est trop haute. Essayez encore.\n"
     ]
    },
    {
     "name": "stdin",
     "output_type": "stream",
     "text": [
      "Entrez votre estimation :  100\n"
     ]
    },
    {
     "name": "stdout",
     "output_type": "stream",
     "text": [
      "Votre estimation est trop haute. Essayez encore.\n"
     ]
    },
    {
     "name": "stdin",
     "output_type": "stream",
     "text": [
      "Entrez votre estimation :  81\n"
     ]
    },
    {
     "name": "stdout",
     "output_type": "stream",
     "text": [
      "Votre estimation est trop haute. Essayez encore.\n"
     ]
    },
    {
     "name": "stdin",
     "output_type": "stream",
     "text": [
      "Entrez votre estimation :  75\n"
     ]
    },
    {
     "name": "stdout",
     "output_type": "stream",
     "text": [
      "Votre estimation est trop haute. Essayez encore.\n"
     ]
    },
    {
     "name": "stdin",
     "output_type": "stream",
     "text": [
      "Entrez votre estimation :  60\n"
     ]
    },
    {
     "name": "stdout",
     "output_type": "stream",
     "text": [
      "Votre estimation est trop haute. Essayez encore.\n"
     ]
    },
    {
     "name": "stdin",
     "output_type": "stream",
     "text": [
      "Entrez votre estimation :  50\n"
     ]
    },
    {
     "name": "stdout",
     "output_type": "stream",
     "text": [
      "Votre estimation est trop haute. Essayez encore.\n"
     ]
    },
    {
     "name": "stdin",
     "output_type": "stream",
     "text": [
      "Entrez votre estimation :  40\n"
     ]
    },
    {
     "name": "stdout",
     "output_type": "stream",
     "text": [
      "Votre estimation est trop haute. Essayez encore.\n"
     ]
    },
    {
     "name": "stdin",
     "output_type": "stream",
     "text": [
      "Entrez votre estimation :  \n"
     ]
    },
    {
     "name": "stdout",
     "output_type": "stream",
     "text": [
      "Veuillez entrer un nombre entier valide.\n"
     ]
    },
    {
     "name": "stdin",
     "output_type": "stream",
     "text": [
      "Entrez votre estimation :  30\n"
     ]
    },
    {
     "name": "stdout",
     "output_type": "stream",
     "text": [
      "Votre estimation est trop haute. Essayez encore.\n"
     ]
    },
    {
     "name": "stdin",
     "output_type": "stream",
     "text": [
      "Entrez votre estimation :  20\n"
     ]
    },
    {
     "name": "stdout",
     "output_type": "stream",
     "text": [
      "Votre estimation est trop haute. Essayez encore.\n"
     ]
    },
    {
     "name": "stdin",
     "output_type": "stream",
     "text": [
      "Entrez votre estimation :  10\n"
     ]
    },
    {
     "name": "stdout",
     "output_type": "stream",
     "text": [
      "Votre estimation est trop basse. Essayez encore.\n"
     ]
    },
    {
     "name": "stdin",
     "output_type": "stream",
     "text": [
      "Entrez votre estimation :  15\n"
     ]
    },
    {
     "name": "stdout",
     "output_type": "stream",
     "text": [
      "Votre estimation est trop basse. Essayez encore.\n"
     ]
    },
    {
     "name": "stdin",
     "output_type": "stream",
     "text": [
      "Entrez votre estimation :  12\n"
     ]
    },
    {
     "name": "stdout",
     "output_type": "stream",
     "text": [
      "Votre estimation est trop basse. Essayez encore.\n"
     ]
    },
    {
     "name": "stdin",
     "output_type": "stream",
     "text": [
      "Entrez votre estimation :  13\n"
     ]
    },
    {
     "name": "stdout",
     "output_type": "stream",
     "text": [
      "Votre estimation est trop basse. Essayez encore.\n"
     ]
    },
    {
     "name": "stdin",
     "output_type": "stream",
     "text": [
      "Entrez votre estimation :  14\n"
     ]
    },
    {
     "name": "stdout",
     "output_type": "stream",
     "text": [
      "Votre estimation est trop basse. Essayez encore.\n"
     ]
    },
    {
     "name": "stdin",
     "output_type": "stream",
     "text": [
      "Entrez votre estimation :  16\n"
     ]
    },
    {
     "name": "stdout",
     "output_type": "stream",
     "text": [
      "Votre estimation est trop basse. Essayez encore.\n"
     ]
    },
    {
     "name": "stdin",
     "output_type": "stream",
     "text": [
      "Entrez votre estimation :  17\n"
     ]
    },
    {
     "name": "stdout",
     "output_type": "stream",
     "text": [
      "Votre estimation est trop basse. Essayez encore.\n"
     ]
    },
    {
     "name": "stdin",
     "output_type": "stream",
     "text": [
      "Entrez votre estimation :  18\n"
     ]
    },
    {
     "name": "stdout",
     "output_type": "stream",
     "text": [
      "Félicitations ! Vous avez deviné le numéro correctement en 18 essais.\n"
     ]
    }
   ],
   "source": [
    "import random\n",
    "\n",
    "def devine_le_numero():\n",
    "    print(\"Bienvenue au jeu Devinez le Numéro !\")\n",
    "    print(\"Je pense à un numéro entre 1 et 100. Pouvez-vous deviner lequel c'est ?\")\n",
    "\n",
    "    numero_a_deviner = random.randint(1, 100)\n",
    "    estimation = None\n",
    "    essais = 0\n",
    "\n",
    "    while estimation != numero_a_deviner:\n",
    "        try:\n",
    "            estimation = int(input(\"Entrez votre estimation : \"))\n",
    "            essais += 1\n",
    "\n",
    "            if estimation < numero_a_deviner:\n",
    "                print(\"Votre estimation est trop basse. Essayez encore.\")\n",
    "            elif estimation > numero_a_deviner:\n",
    "                print(\"Votre estimation est trop haute. Essayez encore.\")\n",
    "            else:\n",
    "                print(f\"Félicitations ! Vous avez deviné le numéro correctement en {essais} essais.\")\n",
    "        except ValueError:\n",
    "            print(\"Veuillez entrer un nombre entier valide.\")\n",
    "\n",
    "if __name__ == \"__main__\":\n",
    "    devine_le_numero()\n"
   ]
  },
  {
   "cell_type": "code",
   "execution_count": null,
   "id": "a78fdac7-65eb-4faf-abd6-a8307a89e2b5",
   "metadata": {},
   "outputs": [],
   "source": []
  },
  {
   "cell_type": "code",
   "execution_count": null,
   "id": "148de588-ecf6-46e4-ad6a-107981a4116a",
   "metadata": {},
   "outputs": [],
   "source": []
  }
 ],
 "metadata": {
  "kernelspec": {
   "display_name": "Python 3 (ipykernel)",
   "language": "python",
   "name": "python3"
  },
  "language_info": {
   "codemirror_mode": {
    "name": "ipython",
    "version": 3
   },
   "file_extension": ".py",
   "mimetype": "text/x-python",
   "name": "python",
   "nbconvert_exporter": "python",
   "pygments_lexer": "ipython3",
   "version": "3.11.5"
  }
 },
 "nbformat": 4,
 "nbformat_minor": 5
}
